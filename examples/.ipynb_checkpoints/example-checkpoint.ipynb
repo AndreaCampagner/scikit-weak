{
 "cells": [
  {
   "cell_type": "code",
   "execution_count": 1,
   "id": "58720e49",
   "metadata": {},
   "outputs": [
    {
     "ename": "ModuleNotFoundError",
     "evalue": "No module named 'skweak'",
     "output_type": "error",
     "traceback": [
      "\u001b[1;31m---------------------------------------------------------------------------\u001b[0m",
      "\u001b[1;31mModuleNotFoundError\u001b[0m                       Traceback (most recent call last)",
      "\u001b[1;32m<ipython-input-1-b578972d4407>\u001b[0m in \u001b[0;36m<module>\u001b[1;34m\u001b[0m\n\u001b[0;32m      1\u001b[0m \u001b[1;32mfrom\u001b[0m \u001b[0msklearn\u001b[0m\u001b[1;33m.\u001b[0m\u001b[0mdatasets\u001b[0m \u001b[1;32mimport\u001b[0m \u001b[0mload_iris\u001b[0m\u001b[1;33m\u001b[0m\u001b[1;33m\u001b[0m\u001b[0m\n\u001b[0;32m      2\u001b[0m \u001b[1;32mfrom\u001b[0m \u001b[0msklearn\u001b[0m\u001b[1;33m.\u001b[0m\u001b[0mpreprocessing\u001b[0m \u001b[1;32mimport\u001b[0m \u001b[0mKBinsDiscretizer\u001b[0m\u001b[1;33m\u001b[0m\u001b[1;33m\u001b[0m\u001b[0m\n\u001b[1;32m----> 3\u001b[1;33m \u001b[1;32mfrom\u001b[0m \u001b[0mskweak\u001b[0m \u001b[1;32mimport\u001b[0m \u001b[1;33m*\u001b[0m\u001b[1;33m\u001b[0m\u001b[1;33m\u001b[0m\u001b[0m\n\u001b[0m\u001b[0;32m      4\u001b[0m \u001b[1;32mimport\u001b[0m \u001b[0mnumpy\u001b[0m \u001b[1;32mas\u001b[0m \u001b[0mnp\u001b[0m\u001b[1;33m\u001b[0m\u001b[1;33m\u001b[0m\u001b[0m\n\u001b[0;32m      5\u001b[0m \u001b[1;32mimport\u001b[0m \u001b[0mnumpy\u001b[0m\u001b[1;33m.\u001b[0m\u001b[0mrandom\u001b[0m \u001b[1;32mas\u001b[0m \u001b[0mrandom\u001b[0m\u001b[1;33m\u001b[0m\u001b[1;33m\u001b[0m\u001b[0m\n",
      "\u001b[1;31mModuleNotFoundError\u001b[0m: No module named 'skweak'"
     ]
    }
   ],
   "source": [
    "from sklearn.datasets import load_iris\n",
    "from sklearn.preprocessing import KBinsDiscretizer\n",
    "from skweak import *\n",
    "import numpy as np\n",
    "import numpy.random as random\n",
    "from sklearn.metrics import accuracy_score"
   ]
  },
  {
   "cell_type": "code",
   "execution_count": null,
   "id": "475be725",
   "metadata": {},
   "outputs": [],
   "source": [
    "X, y = load_iris(return_X_y=True)\n",
    "est = KBinsDiscretizer(n_bins=2, encode='ordinal', strategy='kmeans')\n",
    "\n",
    "X_discr = est.fit_transform(X)\n",
    "X"
   ]
  },
  {
   "cell_type": "code",
   "execution_count": null,
   "id": "82a29abf",
   "metadata": {},
   "outputs": [],
   "source": [
    "np.random.seed(0)\n",
    "\n",
    "noise = 0.10\n",
    "target = []\n",
    "for t in y:\n",
    "    t_temp = [t]\n",
    "    classes = np.unique(y)\n",
    "    for c in classes:\n",
    "        if random.uniform(size=1) <= noise and c != t:\n",
    "            t_temp.append(c)\n",
    "    target.append(t_temp)\n",
    "\n",
    "target = np.array(target)\n",
    "target"
   ]
  },
  {
   "cell_type": "code",
   "execution_count": null,
   "id": "5b7ab433",
   "metadata": {},
   "outputs": [],
   "source": [
    "rs = RoughSetSelector(method='approximate', epsilon = 0.01, discrete=True)\n",
    "rs.fit(X_discr, target)\n",
    "print(rs.reducts_)"
   ]
  },
  {
   "cell_type": "code",
   "execution_count": null,
   "id": "49170e6d",
   "metadata": {},
   "outputs": [],
   "source": [
    "rs = RoughSetSelector(method='brute', epsilon = 0.01, discrete=True)\n",
    "rs.fit(X_discr, target)\n",
    "print(rs.reducts_)"
   ]
  },
  {
   "cell_type": "code",
   "execution_count": null,
   "id": "9e7bcae0",
   "metadata": {},
   "outputs": [],
   "source": [
    "rs = RoughSetSelector(method='brute', epsilon = 0.01, discrete=False,\n",
    "                      neighborhood='delta', radius=0.1)\n",
    "rs.fit(X, target)\n",
    "print(rs.reducts_)"
   ]
  },
  {
   "cell_type": "code",
   "execution_count": null,
   "id": "08be5d35",
   "metadata": {},
   "outputs": [],
   "source": [
    "rs = RoughSetSelector(method='brute', epsilon = 0.01, discrete=False,\n",
    "                      neighborhood='nearest', n_neighbors=10)\n",
    "rs.fit(X, target)\n",
    "print(rs.reducts_)"
   ]
  },
  {
   "cell_type": "code",
   "execution_count": null,
   "id": "894f2a94",
   "metadata": {},
   "outputs": [],
   "source": [
    "clf = RRLClassifier(estimator=DecisionTreeClassifier, missing=False, resample=True)\n",
    "clf.fit(X, target)\n",
    "accuracy_score(y, clf.predict(X))"
   ]
  },
  {
   "cell_type": "code",
   "execution_count": null,
   "id": "53b816ba",
   "metadata": {},
   "outputs": [],
   "source": [
    "clf = SupersetKNeighborsClassifier()\n",
    "clf.fit(X, target)\n",
    "accuracy_score(y, clf.predict(X))"
   ]
  },
  {
   "cell_type": "code",
   "execution_count": null,
   "id": "655c5bcb",
   "metadata": {},
   "outputs": [],
   "source": [
    "clf = DELIN()\n",
    "clf.fit(X, target)\n",
    "accuracy_score(y, clf.predict(X))"
   ]
  },
  {
   "cell_type": "code",
   "execution_count": null,
   "id": "bbf0158a",
   "metadata": {},
   "outputs": [],
   "source": []
  }
 ],
 "metadata": {
  "kernelspec": {
   "display_name": "ML",
   "language": "python",
   "name": "machine_learning"
  },
  "language_info": {
   "codemirror_mode": {
    "name": "ipython",
    "version": 3
   },
   "file_extension": ".py",
   "mimetype": "text/x-python",
   "name": "python",
   "nbconvert_exporter": "python",
   "pygments_lexer": "ipython3",
   "version": "3.9.5"
  }
 },
 "nbformat": 4,
 "nbformat_minor": 5
}
