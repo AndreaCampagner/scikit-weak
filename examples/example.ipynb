{
 "cells": [
  {
   "cell_type": "code",
   "execution_count": 1,
   "id": "58720e49",
   "metadata": {},
   "outputs": [],
   "source": [
    "from sklearn.datasets import load_iris\n",
    "from sklearn.metrics import accuracy_score\n",
    "import numpy as np\n",
    "import numpy.random as random\n",
    "from sklearn.tree import DecisionTreeClassifier"
   ]
  },
  {
   "cell_type": "code",
   "execution_count": 2,
   "id": "88129d98",
   "metadata": {},
   "outputs": [],
   "source": [
    "from scikit_weak import *"
   ]
  },
  {
   "cell_type": "code",
   "execution_count": 3,
   "id": "475be725",
   "metadata": {},
   "outputs": [],
   "source": [
    "X, y = load_iris(return_X_y=True)"
   ]
  },
  {
   "cell_type": "code",
   "execution_count": 4,
   "id": "82a29abf",
   "metadata": {},
   "outputs": [],
   "source": [
    "np.random.seed(0)\n",
    "\n",
    "noise = 0.10\n",
    "target = []\n",
    "for t in y:\n",
    "    t_temp = [t]\n",
    "    classes = np.unique(y)\n",
    "    for c in classes:\n",
    "        if random.uniform(size=1) <= noise and c != t:\n",
    "            t_temp.append(c)\n",
    "    target.append(DiscreteSetLabel(t_temp, 3))"
   ]
  },
  {
   "cell_type": "code",
   "execution_count": 10,
   "id": "5b7ab433",
   "metadata": {},
   "outputs": [
    {
     "name": "stdout",
     "output_type": "stream",
     "text": [
      "[array([0, 3])]\n"
     ]
    }
   ],
   "source": [
    "rs = RoughSetSelector(search_strategy='approximate', epsilon = 0.1, discrete=True, n_iters=10)\n",
    "rs.fit(X, target)\n",
    "print(rs.reducts_)"
   ]
  },
  {
   "cell_type": "code",
   "execution_count": 9,
   "id": "49170e6d",
   "metadata": {},
   "outputs": [
    {
     "name": "stdout",
     "output_type": "stream",
     "text": [
      "[[0 1]\n",
      " [0 2]\n",
      " [0 3]\n",
      " [1 2]\n",
      " [1 3]\n",
      " [2 3]]\n"
     ]
    }
   ],
   "source": [
    "rs = RoughSetSelector(search_strategy='brute', epsilon = 0.1, discrete=True)\n",
    "rs.fit(X, target)\n",
    "print(rs.reducts_)"
   ]
  },
  {
   "cell_type": "code",
   "execution_count": 11,
   "id": "9e7bcae0",
   "metadata": {},
   "outputs": [
    {
     "name": "stdout",
     "output_type": "stream",
     "text": [
      "[[0 2]\n",
      " [0 3]\n",
      " [1 2]\n",
      " [1 3]\n",
      " [2 3]]\n"
     ]
    }
   ],
   "source": [
    "rs = RoughSetSelector(search_strategy='brute', epsilon = 0.1, discrete=False,\n",
    "                      neighborhood='delta', radius=0.1)\n",
    "rs.fit(X, target)\n",
    "print(rs.reducts_)"
   ]
  },
  {
   "cell_type": "code",
   "execution_count": 12,
   "id": "08be5d35",
   "metadata": {},
   "outputs": [
    {
     "name": "stdout",
     "output_type": "stream",
     "text": [
      "[[2]\n",
      " [3]]\n"
     ]
    }
   ],
   "source": [
    "rs = RoughSetSelector(search_strategy='brute', epsilon = 0.1, discrete=False,\n",
    "                      neighborhood='nearest', n_neighbors=10)\n",
    "rs.fit(X, target)\n",
    "print(rs.reducts_)"
   ]
  },
  {
   "cell_type": "code",
   "execution_count": 13,
   "id": "894f2a94",
   "metadata": {},
   "outputs": [
    {
     "data": {
      "text/plain": [
       "0.9933333333333333"
      ]
     },
     "execution_count": 13,
     "metadata": {},
     "output_type": "execute_result"
    }
   ],
   "source": [
    "clf = RRLClassifier(resample=True)\n",
    "clf.fit(X, target)\n",
    "accuracy_score(y, clf.predict(X))"
   ]
  },
  {
   "cell_type": "code",
   "execution_count": 14,
   "id": "53b816ba",
   "metadata": {},
   "outputs": [
    {
     "data": {
      "text/plain": [
       "0.9533333333333334"
      ]
     },
     "execution_count": 14,
     "metadata": {},
     "output_type": "execute_result"
    }
   ],
   "source": [
    "clf = WeaklySupervisedKNeighborsClassifier()\n",
    "clf.fit(X, target)\n",
    "accuracy_score(y, clf.predict(X))"
   ]
  },
  {
   "cell_type": "code",
   "execution_count": 15,
   "id": "655c5bcb",
   "metadata": {},
   "outputs": [
    {
     "data": {
      "text/plain": [
       "0.9733333333333334"
      ]
     },
     "execution_count": 15,
     "metadata": {},
     "output_type": "execute_result"
    }
   ],
   "source": [
    "clf = DELIN()\n",
    "clf.fit(X, target)\n",
    "accuracy_score(y, clf.predict(X))"
   ]
  },
  {
   "cell_type": "code",
   "execution_count": null,
   "id": "090fb5a4",
   "metadata": {},
   "outputs": [],
   "source": []
  }
 ],
 "metadata": {
  "kernelspec": {
   "display_name": "ML",
   "language": "python",
   "name": "machine_learning"
  },
  "language_info": {
   "codemirror_mode": {
    "name": "ipython",
    "version": 3
   },
   "file_extension": ".py",
   "mimetype": "text/x-python",
   "name": "python",
   "nbconvert_exporter": "python",
   "pygments_lexer": "ipython3",
   "version": "3.9.5"
  }
 },
 "nbformat": 4,
 "nbformat_minor": 5
}
