{
 "cells": [
  {
   "cell_type": "code",
   "execution_count": null,
   "id": "58720e49",
   "metadata": {},
   "outputs": [],
   "source": [
    "from sklearn.datasets import load_iris\n",
    "from sklearn.metrics import accuracy_score\n",
    "import numpy as np\n",
    "import numpy.random as random\n",
    "from sklearn.tree import DecisionTreeClassifier"
   ]
  },
  {
   "cell_type": "code",
   "execution_count": null,
   "id": "88129d98",
   "metadata": {},
   "outputs": [],
   "source": [
    "from scikit_weak import *"
   ]
  },
  {
   "cell_type": "code",
   "execution_count": null,
   "id": "475be725",
   "metadata": {},
   "outputs": [],
   "source": [
    "X, y = load_iris(return_X_y=True)"
   ]
  },
  {
   "cell_type": "code",
   "execution_count": null,
   "id": "271ea19b",
   "metadata": {},
   "outputs": [],
   "source": [
    "sm = DiscreteRandomSmoother(type='set', epsilon=0.5, p_incl = 1.0, p_err=0.50)\n",
    "target = sm.fit_transform(X,y)\n",
    "for t in target:\n",
    "    print(t)"
   ]
  },
  {
   "cell_type": "code",
   "execution_count": null,
   "id": "5b7ab433",
   "metadata": {},
   "outputs": [],
   "source": [
    "rs = RoughSetSelector(search_strategy='approximate', epsilon = 0.1, discrete=True, n_iters=10)\n",
    "rs.fit(X, target)\n",
    "print(rs.reducts_)"
   ]
  },
  {
   "cell_type": "code",
   "execution_count": null,
   "id": "49170e6d",
   "metadata": {},
   "outputs": [],
   "source": [
    "rs = RoughSetSelector(search_strategy='brute', epsilon = 0.1, discrete=True)\n",
    "rs.fit(X, target)\n",
    "print(rs.reducts_)"
   ]
  },
  {
   "cell_type": "code",
   "execution_count": null,
   "id": "9e7bcae0",
   "metadata": {},
   "outputs": [],
   "source": [
    "rs = RoughSetSelector(search_strategy='brute', epsilon = 0.1, discrete=False,\n",
    "                      neighborhood='delta', radius=0.1)\n",
    "rs.fit(X, target)\n",
    "print(rs.reducts_)"
   ]
  },
  {
   "cell_type": "code",
   "execution_count": null,
   "id": "08be5d35",
   "metadata": {},
   "outputs": [],
   "source": [
    "rs = RoughSetSelector(search_strategy='brute', epsilon = 0.1, discrete=False,\n",
    "                      neighborhood='nearest', n_neighbors=10)\n",
    "rs.fit(X, target)\n",
    "print(rs.reducts_)"
   ]
  },
  {
   "cell_type": "code",
   "execution_count": null,
   "id": "894f2a94",
   "metadata": {},
   "outputs": [],
   "source": [
    "clf = RRLClassifier(resample=True, random_state=42, n_estimators=100)\n",
    "clf.fit(X, target)\n",
    "accuracy_score(y, clf.predict(X))"
   ]
  },
  {
   "cell_type": "code",
   "execution_count": null,
   "id": "53b816ba",
   "metadata": {},
   "outputs": [],
   "source": [
    "clf = WeaklySupervisedKNeighborsClassifier()\n",
    "clf.fit(X, target)\n",
    "accuracy_score(y, clf.predict(X))"
   ]
  },
  {
   "cell_type": "code",
   "execution_count": null,
   "id": "655c5bcb",
   "metadata": {},
   "outputs": [],
   "source": [
    "clf = DELIN()\n",
    "clf.fit(X, target)\n",
    "accuracy_score(y, clf.predict(X))"
   ]
  },
  {
   "cell_type": "code",
   "execution_count": null,
   "id": "090fb5a4",
   "metadata": {},
   "outputs": [],
   "source": []
  }
 ],
 "metadata": {
  "kernelspec": {
   "display_name": "ML",
   "language": "python",
   "name": "machine_learning"
  },
  "language_info": {
   "codemirror_mode": {
    "name": "ipython",
    "version": 3
   },
   "file_extension": ".py",
   "mimetype": "text/x-python",
   "name": "python",
   "nbconvert_exporter": "python",
   "pygments_lexer": "ipython3",
   "version": "3.9.5"
  }
 },
 "nbformat": 4,
 "nbformat_minor": 5
}
